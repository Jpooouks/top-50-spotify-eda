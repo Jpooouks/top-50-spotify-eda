{
 "cells": [
  {
   "cell_type": "markdown",
   "id": "19126495",
   "metadata": {},
   "source": [
    "# Top 50 Spotify Tracks- 2020 TC Exploration Project\n",
    "\n"
   ]
  },
  {
   "cell_type": "markdown",
   "id": "9a0b754d",
   "metadata": {},
   "source": [
    "## Importing"
   ]
  },
  {
   "cell_type": "code",
   "execution_count": 1,
   "id": "96b79285",
   "metadata": {},
   "outputs": [],
   "source": [
    "import pandas as pd\n",
    "import numpy as np"
   ]
  },
  {
   "cell_type": "code",
   "execution_count": 2,
   "id": "f5551ebd",
   "metadata": {
    "scrolled": true
   },
   "outputs": [
    {
     "data": {
      "text/html": [
       "<div>\n",
       "<style scoped>\n",
       "    .dataframe tbody tr th:only-of-type {\n",
       "        vertical-align: middle;\n",
       "    }\n",
       "\n",
       "    .dataframe tbody tr th {\n",
       "        vertical-align: top;\n",
       "    }\n",
       "\n",
       "    .dataframe thead th {\n",
       "        text-align: right;\n",
       "    }\n",
       "</style>\n",
       "<table border=\"1\" class=\"dataframe\">\n",
       "  <thead>\n",
       "    <tr style=\"text-align: right;\">\n",
       "      <th></th>\n",
       "      <th>artist</th>\n",
       "      <th>album</th>\n",
       "      <th>track_name</th>\n",
       "      <th>track_id</th>\n",
       "      <th>energy</th>\n",
       "      <th>danceability</th>\n",
       "      <th>key</th>\n",
       "      <th>loudness</th>\n",
       "      <th>acousticness</th>\n",
       "      <th>speechiness</th>\n",
       "      <th>instrumentalness</th>\n",
       "      <th>liveness</th>\n",
       "      <th>valence</th>\n",
       "      <th>tempo</th>\n",
       "      <th>duration_ms</th>\n",
       "      <th>genre</th>\n",
       "    </tr>\n",
       "  </thead>\n",
       "  <tbody>\n",
       "    <tr>\n",
       "      <th>0</th>\n",
       "      <td>The Weeknd</td>\n",
       "      <td>After Hours</td>\n",
       "      <td>Blinding Lights</td>\n",
       "      <td>0VjIjW4GlUZAMYd2vXMi3b</td>\n",
       "      <td>0.730</td>\n",
       "      <td>0.514</td>\n",
       "      <td>1</td>\n",
       "      <td>-5.934</td>\n",
       "      <td>0.00146</td>\n",
       "      <td>0.0598</td>\n",
       "      <td>0.000095</td>\n",
       "      <td>0.0897</td>\n",
       "      <td>0.334</td>\n",
       "      <td>171.005</td>\n",
       "      <td>200040</td>\n",
       "      <td>R&amp;B/Soul</td>\n",
       "    </tr>\n",
       "    <tr>\n",
       "      <th>1</th>\n",
       "      <td>Tones And I</td>\n",
       "      <td>Dance Monkey</td>\n",
       "      <td>Dance Monkey</td>\n",
       "      <td>1rgnBhdG2JDFTbYkYRZAku</td>\n",
       "      <td>0.593</td>\n",
       "      <td>0.825</td>\n",
       "      <td>6</td>\n",
       "      <td>-6.401</td>\n",
       "      <td>0.68800</td>\n",
       "      <td>0.0988</td>\n",
       "      <td>0.000161</td>\n",
       "      <td>0.1700</td>\n",
       "      <td>0.540</td>\n",
       "      <td>98.078</td>\n",
       "      <td>209755</td>\n",
       "      <td>Alternative/Indie</td>\n",
       "    </tr>\n",
       "    <tr>\n",
       "      <th>2</th>\n",
       "      <td>Roddy Ricch</td>\n",
       "      <td>Please Excuse Me For Being Antisocial</td>\n",
       "      <td>The Box</td>\n",
       "      <td>0nbXyq5TXYPCO7pr3N8S4I</td>\n",
       "      <td>0.586</td>\n",
       "      <td>0.896</td>\n",
       "      <td>10</td>\n",
       "      <td>-6.687</td>\n",
       "      <td>0.10400</td>\n",
       "      <td>0.0559</td>\n",
       "      <td>0.000000</td>\n",
       "      <td>0.7900</td>\n",
       "      <td>0.642</td>\n",
       "      <td>116.971</td>\n",
       "      <td>196653</td>\n",
       "      <td>Hip-Hop/Rap</td>\n",
       "    </tr>\n",
       "  </tbody>\n",
       "</table>\n",
       "</div>"
      ],
      "text/plain": [
       "        artist                                  album       track_name  \\\n",
       "0   The Weeknd                            After Hours  Blinding Lights   \n",
       "1  Tones And I                           Dance Monkey     Dance Monkey   \n",
       "2  Roddy Ricch  Please Excuse Me For Being Antisocial          The Box   \n",
       "\n",
       "                 track_id  energy  danceability  key  loudness  acousticness  \\\n",
       "0  0VjIjW4GlUZAMYd2vXMi3b   0.730         0.514    1    -5.934       0.00146   \n",
       "1  1rgnBhdG2JDFTbYkYRZAku   0.593         0.825    6    -6.401       0.68800   \n",
       "2  0nbXyq5TXYPCO7pr3N8S4I   0.586         0.896   10    -6.687       0.10400   \n",
       "\n",
       "   speechiness  instrumentalness  liveness  valence    tempo  duration_ms  \\\n",
       "0       0.0598          0.000095    0.0897    0.334  171.005       200040   \n",
       "1       0.0988          0.000161    0.1700    0.540   98.078       209755   \n",
       "2       0.0559          0.000000    0.7900    0.642  116.971       196653   \n",
       "\n",
       "               genre  \n",
       "0           R&B/Soul  \n",
       "1  Alternative/Indie  \n",
       "2        Hip-Hop/Rap  "
      ]
     },
     "execution_count": 2,
     "metadata": {},
     "output_type": "execute_result"
    }
   ],
   "source": [
    "data = pd.read_csv('spotifytoptracks.csv', index_col=0)\n",
    "data.head(3)"
   ]
  },
  {
   "cell_type": "markdown",
   "id": "ebfbb372",
   "metadata": {},
   "source": [
    "## Cleaning"
   ]
  },
  {
   "cell_type": "code",
   "execution_count": 3,
   "id": "46448fbe",
   "metadata": {},
   "outputs": [
    {
     "data": {
      "text/plain": [
       "False"
      ]
     },
     "execution_count": 3,
     "metadata": {},
     "output_type": "execute_result"
    }
   ],
   "source": [
    "data.isnull().any(axis=None)"
   ]
  },
  {
   "cell_type": "code",
   "execution_count": 4,
   "id": "7e8f440a",
   "metadata": {
    "scrolled": true
   },
   "outputs": [
    {
     "data": {
      "text/plain": [
       "False"
      ]
     },
     "execution_count": 4,
     "metadata": {},
     "output_type": "execute_result"
    }
   ],
   "source": [
    "data.duplicated().any()"
   ]
  },
  {
   "cell_type": "markdown",
   "id": "b28e718b",
   "metadata": {},
   "source": [
    "It appears that there are no null values nor duplicate entries in the data. Given that the data is made of the top Spotify tracks, it makes no sense to look for outliers nor to drop them from the rest of the data."
   ]
  },
  {
   "cell_type": "markdown",
   "id": "58018f3e",
   "metadata": {},
   "source": [
    "Let's check the genre values, since that's where there could be potential for duplication."
   ]
  },
  {
   "cell_type": "code",
   "execution_count": 5,
   "id": "323e8df5",
   "metadata": {},
   "outputs": [
    {
     "data": {
      "text/plain": [
       "array(['R&B/Soul', 'Alternative/Indie', 'Hip-Hop/Rap', 'Dance/Electronic',\n",
       "       'Nu-disco', 'Pop', 'R&B/Hip-Hop alternative', 'Pop/Soft Rock',\n",
       "       'Pop rap', ' Electro-pop', 'Hip-Hop/Trap', 'Dance-pop/Disco',\n",
       "       'Disco-pop', 'Dreampop/Hip-Hop/R&B',\n",
       "       'Alternative/reggaeton/experimental', 'Chamber pop'], dtype=object)"
      ]
     },
     "execution_count": 5,
     "metadata": {},
     "output_type": "execute_result"
    }
   ],
   "source": [
    "data.genre.unique()"
   ]
  },
  {
   "cell_type": "markdown",
   "id": "0ceb5858",
   "metadata": {},
   "source": [
    "Okay, so we see that many of the genres contain the same keywords for denoting a possible mix of genre or a sub-genre of music. Given this data, there is no way to tell which genre, from a possibility of two or three, the song is closer to or if it's a unique genre of it's own right. Therefore we'll keep these as stand-alones."
   ]
  },
  {
   "cell_type": "code",
   "execution_count": 6,
   "id": "a3af2a39",
   "metadata": {
    "scrolled": true
   },
   "outputs": [
    {
     "data": {
      "text/html": [
       "<div>\n",
       "<style scoped>\n",
       "    .dataframe tbody tr th:only-of-type {\n",
       "        vertical-align: middle;\n",
       "    }\n",
       "\n",
       "    .dataframe tbody tr th {\n",
       "        vertical-align: top;\n",
       "    }\n",
       "\n",
       "    .dataframe thead th {\n",
       "        text-align: right;\n",
       "    }\n",
       "</style>\n",
       "<table border=\"1\" class=\"dataframe\">\n",
       "  <thead>\n",
       "    <tr style=\"text-align: right;\">\n",
       "      <th></th>\n",
       "      <th>energy</th>\n",
       "      <th>danceability</th>\n",
       "      <th>key</th>\n",
       "      <th>loudness</th>\n",
       "      <th>acousticness</th>\n",
       "      <th>speechiness</th>\n",
       "      <th>instrumentalness</th>\n",
       "      <th>liveness</th>\n",
       "      <th>valence</th>\n",
       "      <th>tempo</th>\n",
       "      <th>duration_ms</th>\n",
       "    </tr>\n",
       "  </thead>\n",
       "  <tbody>\n",
       "    <tr>\n",
       "      <th>count</th>\n",
       "      <td>50.000000</td>\n",
       "      <td>50.000000</td>\n",
       "      <td>50.000000</td>\n",
       "      <td>50.000000</td>\n",
       "      <td>50.000000</td>\n",
       "      <td>50.000000</td>\n",
       "      <td>50.000000</td>\n",
       "      <td>50.000000</td>\n",
       "      <td>50.000000</td>\n",
       "      <td>50.000000</td>\n",
       "      <td>50.000000</td>\n",
       "    </tr>\n",
       "    <tr>\n",
       "      <th>mean</th>\n",
       "      <td>0.609300</td>\n",
       "      <td>0.716720</td>\n",
       "      <td>5.720000</td>\n",
       "      <td>-6.225900</td>\n",
       "      <td>0.256206</td>\n",
       "      <td>0.124158</td>\n",
       "      <td>0.015962</td>\n",
       "      <td>0.196552</td>\n",
       "      <td>0.555710</td>\n",
       "      <td>119.690460</td>\n",
       "      <td>199955.360000</td>\n",
       "    </tr>\n",
       "    <tr>\n",
       "      <th>std</th>\n",
       "      <td>0.154348</td>\n",
       "      <td>0.124975</td>\n",
       "      <td>3.709007</td>\n",
       "      <td>2.349744</td>\n",
       "      <td>0.265250</td>\n",
       "      <td>0.116836</td>\n",
       "      <td>0.094312</td>\n",
       "      <td>0.176610</td>\n",
       "      <td>0.216386</td>\n",
       "      <td>25.414778</td>\n",
       "      <td>33996.122488</td>\n",
       "    </tr>\n",
       "    <tr>\n",
       "      <th>min</th>\n",
       "      <td>0.225000</td>\n",
       "      <td>0.351000</td>\n",
       "      <td>0.000000</td>\n",
       "      <td>-14.454000</td>\n",
       "      <td>0.001460</td>\n",
       "      <td>0.029000</td>\n",
       "      <td>0.000000</td>\n",
       "      <td>0.057400</td>\n",
       "      <td>0.060500</td>\n",
       "      <td>75.801000</td>\n",
       "      <td>140526.000000</td>\n",
       "    </tr>\n",
       "    <tr>\n",
       "      <th>25%</th>\n",
       "      <td>0.494000</td>\n",
       "      <td>0.672500</td>\n",
       "      <td>2.000000</td>\n",
       "      <td>-7.552500</td>\n",
       "      <td>0.052800</td>\n",
       "      <td>0.048325</td>\n",
       "      <td>0.000000</td>\n",
       "      <td>0.093950</td>\n",
       "      <td>0.434000</td>\n",
       "      <td>99.557250</td>\n",
       "      <td>175845.500000</td>\n",
       "    </tr>\n",
       "    <tr>\n",
       "      <th>50%</th>\n",
       "      <td>0.597000</td>\n",
       "      <td>0.746000</td>\n",
       "      <td>6.500000</td>\n",
       "      <td>-5.991500</td>\n",
       "      <td>0.188500</td>\n",
       "      <td>0.070050</td>\n",
       "      <td>0.000000</td>\n",
       "      <td>0.111000</td>\n",
       "      <td>0.560000</td>\n",
       "      <td>116.969000</td>\n",
       "      <td>197853.500000</td>\n",
       "    </tr>\n",
       "    <tr>\n",
       "      <th>75%</th>\n",
       "      <td>0.729750</td>\n",
       "      <td>0.794500</td>\n",
       "      <td>8.750000</td>\n",
       "      <td>-4.285500</td>\n",
       "      <td>0.298750</td>\n",
       "      <td>0.155500</td>\n",
       "      <td>0.000020</td>\n",
       "      <td>0.271250</td>\n",
       "      <td>0.726250</td>\n",
       "      <td>132.317000</td>\n",
       "      <td>215064.000000</td>\n",
       "    </tr>\n",
       "    <tr>\n",
       "      <th>max</th>\n",
       "      <td>0.855000</td>\n",
       "      <td>0.935000</td>\n",
       "      <td>11.000000</td>\n",
       "      <td>-3.280000</td>\n",
       "      <td>0.934000</td>\n",
       "      <td>0.487000</td>\n",
       "      <td>0.657000</td>\n",
       "      <td>0.792000</td>\n",
       "      <td>0.925000</td>\n",
       "      <td>180.067000</td>\n",
       "      <td>312820.000000</td>\n",
       "    </tr>\n",
       "  </tbody>\n",
       "</table>\n",
       "</div>"
      ],
      "text/plain": [
       "          energy  danceability        key   loudness  acousticness  \\\n",
       "count  50.000000     50.000000  50.000000  50.000000     50.000000   \n",
       "mean    0.609300      0.716720   5.720000  -6.225900      0.256206   \n",
       "std     0.154348      0.124975   3.709007   2.349744      0.265250   \n",
       "min     0.225000      0.351000   0.000000 -14.454000      0.001460   \n",
       "25%     0.494000      0.672500   2.000000  -7.552500      0.052800   \n",
       "50%     0.597000      0.746000   6.500000  -5.991500      0.188500   \n",
       "75%     0.729750      0.794500   8.750000  -4.285500      0.298750   \n",
       "max     0.855000      0.935000  11.000000  -3.280000      0.934000   \n",
       "\n",
       "       speechiness  instrumentalness   liveness    valence       tempo  \\\n",
       "count    50.000000         50.000000  50.000000  50.000000   50.000000   \n",
       "mean      0.124158          0.015962   0.196552   0.555710  119.690460   \n",
       "std       0.116836          0.094312   0.176610   0.216386   25.414778   \n",
       "min       0.029000          0.000000   0.057400   0.060500   75.801000   \n",
       "25%       0.048325          0.000000   0.093950   0.434000   99.557250   \n",
       "50%       0.070050          0.000000   0.111000   0.560000  116.969000   \n",
       "75%       0.155500          0.000020   0.271250   0.726250  132.317000   \n",
       "max       0.487000          0.657000   0.792000   0.925000  180.067000   \n",
       "\n",
       "         duration_ms  \n",
       "count      50.000000  \n",
       "mean   199955.360000  \n",
       "std     33996.122488  \n",
       "min    140526.000000  \n",
       "25%    175845.500000  \n",
       "50%    197853.500000  \n",
       "75%    215064.000000  \n",
       "max    312820.000000  "
      ]
     },
     "execution_count": 6,
     "metadata": {},
     "output_type": "execute_result"
    }
   ],
   "source": [
    "data.describe()"
   ]
  },
  {
   "cell_type": "markdown",
   "id": "cb700cae",
   "metadata": {},
   "source": [
    "## Exploration"
   ]
  },
  {
   "cell_type": "markdown",
   "id": "d0014cfc",
   "metadata": {},
   "source": [
    "The data contains following number of observations and features respectively:"
   ]
  },
  {
   "cell_type": "code",
   "execution_count": 7,
   "id": "8f56bc13",
   "metadata": {},
   "outputs": [
    {
     "data": {
      "text/plain": [
       "(50, 16)"
      ]
     },
     "execution_count": 7,
     "metadata": {},
     "output_type": "execute_result"
    }
   ],
   "source": [
    "data.shape"
   ]
  },
  {
   "cell_type": "code",
   "execution_count": 8,
   "id": "c20b7d17",
   "metadata": {},
   "outputs": [
    {
     "data": {
      "text/plain": [
       "Index(['artist', 'album', 'track_name', 'track_id', 'energy', 'danceability',\n",
       "       'key', 'loudness', 'acousticness', 'speechiness', 'instrumentalness',\n",
       "       'liveness', 'valence', 'tempo', 'duration_ms', 'genre'],\n",
       "      dtype='object')"
      ]
     },
     "execution_count": 8,
     "metadata": {},
     "output_type": "execute_result"
    }
   ],
   "source": [
    "data.columns"
   ]
  },
  {
   "cell_type": "markdown",
   "id": "4d260062",
   "metadata": {},
   "source": [
    "Artist, album, track_name, track_id, key, genre are __categorical__ features.\n",
    "On the other hand, energy, danceability, loudness, acousticness, speechiness, instrumentalness, liveness, valence, tempo and duration_ms are __numeric__ features."
   ]
  },
  {
   "cell_type": "markdown",
   "id": "6603c37f",
   "metadata": {},
   "source": [
    "Let's see the artists who got more than one hit song on 2020."
   ]
  },
  {
   "cell_type": "code",
   "execution_count": 29,
   "id": "00d76505",
   "metadata": {},
   "outputs": [
    {
     "data": {
      "text/plain": [
       "artist\n",
       "Billie Eilish    3\n",
       "Dua Lipa         3\n",
       "Travis Scott     3\n",
       "Harry Styles     2\n",
       "Justin Bieber    2\n",
       "Lewis Capaldi    2\n",
       "Post Malone      2\n",
       "Name: track_name, dtype: int64"
      ]
     },
     "execution_count": 29,
     "metadata": {},
     "output_type": "execute_result"
    }
   ],
   "source": [
    "data.groupby('artist')['track_name'].count(\n",
    ")[data.groupby('artist')['track_name'].count() > 1].sort_values(\n",
    "ascending=False)"
   ]
  },
  {
   "cell_type": "markdown",
   "id": "9610db44",
   "metadata": {},
   "source": [
    "We see that there are __7__ artists who had more than one hit track in __2020__, with __Billie Eilish__, __Dua Lipa__ and __Travis Scott__ being the __most popular__ ones."
   ]
  },
  {
   "cell_type": "code",
   "execution_count": 10,
   "id": "ab4e96e0",
   "metadata": {},
   "outputs": [
    {
     "data": {
      "text/plain": [
       "40"
      ]
     },
     "execution_count": 10,
     "metadata": {},
     "output_type": "execute_result"
    }
   ],
   "source": [
    "data['artist'].unique().size"
   ]
  },
  {
   "cell_type": "markdown",
   "id": "aaac736a",
   "metadata": {},
   "source": [
    "With 40 artists sharing the top 50 tracks."
   ]
  },
  {
   "cell_type": "code",
   "execution_count": 11,
   "id": "ecd30a59",
   "metadata": {},
   "outputs": [
    {
     "data": {
      "text/plain": [
       "album\n",
       "Future Nostalgia        3\n",
       "Changes                 2\n",
       "Fine Line               2\n",
       "Hollywood's Bleeding    2\n",
       "Name: track_name, dtype: int64"
      ]
     },
     "execution_count": 11,
     "metadata": {},
     "output_type": "execute_result"
    }
   ],
   "source": [
    "data.groupby('album')['track_name'].count(\n",
    ")[data.groupby('album')['track_name'].count()>1].sort_values(\n",
    "ascending=False)"
   ]
  },
  {
   "cell_type": "code",
   "execution_count": 12,
   "id": "5147b56c",
   "metadata": {},
   "outputs": [
    {
     "data": {
      "text/plain": [
       "45"
      ]
     },
     "execution_count": 12,
     "metadata": {},
     "output_type": "execute_result"
    }
   ],
   "source": [
    "data['album'].unique().size"
   ]
  },
  {
   "cell_type": "markdown",
   "id": "4b00fef1",
   "metadata": {},
   "source": [
    "Future Nostalgia album had even 3 songs hit the 50-most-popular mark, with Changes, Fine Line and Hollywood's Bleeding having had 2 top 50 songs each.\n",
    "In total there were 45 albums in this list."
   ]
  },
  {
   "cell_type": "markdown",
   "id": "ff100b14",
   "metadata": {},
   "source": [
    "These songs have danceability score above 0.7:"
   ]
  },
  {
   "cell_type": "code",
   "execution_count": 13,
   "id": "968ab173",
   "metadata": {},
   "outputs": [
    {
     "data": {
      "text/plain": [
       "1                                      Dance Monkey\n",
       "2                                           The Box\n",
       "3                             Roses - Imanbek Remix\n",
       "4                                   Don't Start Now\n",
       "5                      ROCKSTAR (feat. Roddy Ricch)\n",
       "7                  death bed (coffee for your head)\n",
       "8                                           Falling\n",
       "10                                             Tusa\n",
       "13                                  Blueberry Faygo\n",
       "14                         Intentions (feat. Quavo)\n",
       "15                                     Toosie Slide\n",
       "17                                           Say So\n",
       "18                                         Memories\n",
       "19                       Life Is Good (feat. Drake)\n",
       "20                 Savage Love (Laxed - Siren Beat)\n",
       "22                                      Breaking Me\n",
       "24                              everything i wanted\n",
       "25                                         Señorita\n",
       "26                                          bad guy\n",
       "27                  WAP (feat. Megan Thee Stallion)\n",
       "28                                      Sunday Best\n",
       "29                      Godzilla (feat. Juice WRLD)\n",
       "31                                   Break My Heart\n",
       "32                                         Dynamite\n",
       "33                 Supalonely (feat. Gus Dapperton)\n",
       "37    Sunflower - Spider-Man: Into the Spider-Verse\n",
       "38                                            Hawái\n",
       "39                                          Ride It\n",
       "40                                       goosebumps\n",
       "41                        RITMO (Bad Boys For Life)\n",
       "42                                       THE SCOTTS\n",
       "49                                       SICKO MODE\n",
       "Name: track_name, dtype: object"
      ]
     },
     "execution_count": 13,
     "metadata": {},
     "output_type": "execute_result"
    }
   ],
   "source": [
    "data.query('danceability > 0.7')['track_name']"
   ]
  },
  {
   "cell_type": "markdown",
   "id": "6ce77a88",
   "metadata": {},
   "source": [
    "These danceability score below 0.4:"
   ]
  },
  {
   "cell_type": "code",
   "execution_count": 14,
   "id": "03e899c5",
   "metadata": {},
   "outputs": [
    {
     "data": {
      "text/plain": [
       "44    lovely (with Khalid)\n",
       "Name: track_name, dtype: object"
      ]
     },
     "execution_count": 14,
     "metadata": {},
     "output_type": "execute_result"
    }
   ],
   "source": [
    "data.query('danceability < 0.4')['track_name']"
   ]
  },
  {
   "cell_type": "markdown",
   "id": "6cca7bbe",
   "metadata": {},
   "source": [
    "Let's check out the loudness aspect of our data."
   ]
  },
  {
   "cell_type": "markdown",
   "id": "3d277756",
   "metadata": {},
   "source": [
    "These are the loudest tracks with loudness score above -5:"
   ]
  },
  {
   "cell_type": "code",
   "execution_count": 15,
   "id": "43e7deca",
   "metadata": {},
   "outputs": [
    {
     "data": {
      "text/plain": [
       "4                                   Don't Start Now\n",
       "6                                  Watermelon Sugar\n",
       "10                                             Tusa\n",
       "12                                          Circles\n",
       "16                                    Before You Go\n",
       "17                                           Say So\n",
       "21                                        Adore You\n",
       "23                           Mood (feat. iann dior)\n",
       "31                                   Break My Heart\n",
       "32                                         Dynamite\n",
       "33                 Supalonely (feat. Gus Dapperton)\n",
       "35                  Rain On Me (with Ariana Grande)\n",
       "37    Sunflower - Spider-Man: Into the Spider-Verse\n",
       "38                                            Hawái\n",
       "39                                          Ride It\n",
       "40                                       goosebumps\n",
       "43                                          Safaera\n",
       "48                                         Physical\n",
       "49                                       SICKO MODE\n",
       "Name: track_name, dtype: object"
      ]
     },
     "execution_count": 15,
     "metadata": {},
     "output_type": "execute_result"
    }
   ],
   "source": [
    "data.query('loudness > -5')['track_name']"
   ]
  },
  {
   "cell_type": "markdown",
   "id": "f1820756",
   "metadata": {},
   "source": [
    "Conversely, these are the quietest ones with loudness below -8."
   ]
  },
  {
   "cell_type": "code",
   "execution_count": 16,
   "id": "1188b367",
   "metadata": {},
   "outputs": [
    {
     "data": {
      "text/plain": [
       "7                   death bed (coffee for your head)\n",
       "8                                            Falling\n",
       "15                                      Toosie Slide\n",
       "20                  Savage Love (Laxed - Siren Beat)\n",
       "24                               everything i wanted\n",
       "26                                           bad guy\n",
       "36                               HIGHEST IN THE ROOM\n",
       "44                              lovely (with Khalid)\n",
       "47    If the World Was Ending - feat. Julia Michaels\n",
       "Name: track_name, dtype: object"
      ]
     },
     "execution_count": 16,
     "metadata": {},
     "output_type": "execute_result"
    }
   ],
   "source": [
    "data.query('loudness < -8')['track_name']"
   ]
  },
  {
   "cell_type": "markdown",
   "id": "9682ed97",
   "metadata": {},
   "source": [
    "Let's check which tracks are at the extremes of the dataset in respect to length."
   ]
  },
  {
   "cell_type": "code",
   "execution_count": 17,
   "id": "232ff328",
   "metadata": {},
   "outputs": [],
   "source": [
    "min_max_dur = data[['track_name','duration_ms']].agg(['min', 'max'])"
   ]
  },
  {
   "cell_type": "markdown",
   "id": "592ee6b4",
   "metadata": {},
   "source": [
    "Convert the duration to minutes."
   ]
  },
  {
   "cell_type": "code",
   "execution_count": 18,
   "id": "6f12ae3e",
   "metadata": {},
   "outputs": [
    {
     "data": {
      "text/html": [
       "<div>\n",
       "<style scoped>\n",
       "    .dataframe tbody tr th:only-of-type {\n",
       "        vertical-align: middle;\n",
       "    }\n",
       "\n",
       "    .dataframe tbody tr th {\n",
       "        vertical-align: top;\n",
       "    }\n",
       "\n",
       "    .dataframe thead th {\n",
       "        text-align: right;\n",
       "    }\n",
       "</style>\n",
       "<table border=\"1\" class=\"dataframe\">\n",
       "  <thead>\n",
       "    <tr style=\"text-align: right;\">\n",
       "      <th></th>\n",
       "      <th>track_name</th>\n",
       "      <th>duration_m</th>\n",
       "    </tr>\n",
       "  </thead>\n",
       "  <tbody>\n",
       "    <tr>\n",
       "      <th>min</th>\n",
       "      <td>Adore You</td>\n",
       "      <td>2.342100</td>\n",
       "    </tr>\n",
       "    <tr>\n",
       "      <th>max</th>\n",
       "      <td>lovely (with Khalid)</td>\n",
       "      <td>5.213667</td>\n",
       "    </tr>\n",
       "  </tbody>\n",
       "</table>\n",
       "</div>"
      ],
      "text/plain": [
       "               track_name  duration_m\n",
       "min             Adore You    2.342100\n",
       "max  lovely (with Khalid)    5.213667"
      ]
     },
     "execution_count": 18,
     "metadata": {},
     "output_type": "execute_result"
    }
   ],
   "source": [
    "min_max_dur['duration_m'] = min_max_dur['duration_ms'] / 60000\n",
    "min_max_dur.drop('duration_ms', axis =1)"
   ]
  },
  {
   "cell_type": "markdown",
   "id": "fb921b38",
   "metadata": {},
   "source": [
    "Now let's examine the genre aspect of our dataset.\n",
    "For starters, which of the genres is the most popular one?"
   ]
  },
  {
   "cell_type": "code",
   "execution_count": 19,
   "id": "273131cd",
   "metadata": {},
   "outputs": [
    {
     "data": {
      "text/plain": [
       "genre\n",
       "Pop                                   14\n",
       "Hip-Hop/Rap                           13\n",
       "Dance/Electronic                       5\n",
       "Alternative/Indie                      4\n",
       " Electro-pop                           2\n",
       "R&B/Soul                               2\n",
       "Alternative/reggaeton/experimental     1\n",
       "Chamber pop                            1\n",
       "Dance-pop/Disco                        1\n",
       "Disco-pop                              1\n",
       "Dreampop/Hip-Hop/R&B                   1\n",
       "Hip-Hop/Trap                           1\n",
       "Nu-disco                               1\n",
       "Pop rap                                1\n",
       "Pop/Soft Rock                          1\n",
       "R&B/Hip-Hop alternative                1\n",
       "Name: track_name, dtype: int64"
      ]
     },
     "execution_count": 19,
     "metadata": {},
     "output_type": "execute_result"
    }
   ],
   "source": [
    "data.groupby('genre')['track_name'].count().sort_values(ascending=False)"
   ]
  },
  {
   "cell_type": "markdown",
   "id": "0151d5b4",
   "metadata": {},
   "source": [
    "It seems like within the 50 most popular tracks the leading genre is Pop, however very closely followed by Hip-Hop and Rap."
   ]
  },
  {
   "cell_type": "markdown",
   "id": "47fe8381",
   "metadata": {},
   "source": [
    "Alright, now let's have a look at the genres which only have 1 song in the top 50 chart."
   ]
  },
  {
   "cell_type": "code",
   "execution_count": 20,
   "id": "2416c4fa",
   "metadata": {},
   "outputs": [
    {
     "data": {
      "text/plain": [
       "genre\n",
       "Alternative/reggaeton/experimental     1\n",
       "Chamber pop                            1\n",
       "Dance-pop/Disco                        1\n",
       "Disco-pop                              1\n",
       "Dreampop/Hip-Hop/R&B                   1\n",
       "Hip-Hop/Trap                           1\n",
       "Nu-disco                               1\n",
       "Pop rap                                1\n",
       "Pop/Soft Rock                          1\n",
       "R&B/Hip-Hop alternative                1\n",
       " Electro-pop                           2\n",
       "R&B/Soul                               2\n",
       "Alternative/Indie                      4\n",
       "Dance/Electronic                       5\n",
       "Hip-Hop/Rap                           13\n",
       "Pop                                   14\n",
       "Name: track_name, dtype: int64"
      ]
     },
     "execution_count": 20,
     "metadata": {},
     "output_type": "execute_result"
    }
   ],
   "source": [
    "data.groupby('genre')['track_name'].count().sort_values()"
   ]
  },
  {
   "cell_type": "markdown",
   "id": "b96d0f58",
   "metadata": {},
   "source": [
    "So, it seems, that most of these genres are derivatives or 'different flavours' of the more popular ones."
   ]
  },
  {
   "cell_type": "markdown",
   "id": "89fbe2c6",
   "metadata": {},
   "source": [
    "We'll count each genre:"
   ]
  },
  {
   "cell_type": "code",
   "execution_count": 21,
   "id": "58460954",
   "metadata": {},
   "outputs": [
    {
     "data": {
      "text/plain": [
       "16"
      ]
     },
     "execution_count": 21,
     "metadata": {},
     "output_type": "execute_result"
    }
   ],
   "source": [
    "data.genre.unique().size"
   ]
  },
  {
   "cell_type": "markdown",
   "id": "324e9e0d",
   "metadata": {},
   "source": [
    "Now we'll look at correlations between features."
   ]
  },
  {
   "cell_type": "code",
   "execution_count": 22,
   "id": "a77ee531",
   "metadata": {},
   "outputs": [
    {
     "data": {
      "text/html": [
       "<div>\n",
       "<style scoped>\n",
       "    .dataframe tbody tr th:only-of-type {\n",
       "        vertical-align: middle;\n",
       "    }\n",
       "\n",
       "    .dataframe tbody tr th {\n",
       "        vertical-align: top;\n",
       "    }\n",
       "\n",
       "    .dataframe thead th {\n",
       "        text-align: right;\n",
       "    }\n",
       "</style>\n",
       "<table border=\"1\" class=\"dataframe\">\n",
       "  <thead>\n",
       "    <tr style=\"text-align: right;\">\n",
       "      <th></th>\n",
       "      <th>energy</th>\n",
       "      <th>danceability</th>\n",
       "      <th>key</th>\n",
       "      <th>loudness</th>\n",
       "      <th>acousticness</th>\n",
       "      <th>speechiness</th>\n",
       "      <th>instrumentalness</th>\n",
       "      <th>liveness</th>\n",
       "      <th>valence</th>\n",
       "      <th>tempo</th>\n",
       "      <th>duration_ms</th>\n",
       "    </tr>\n",
       "  </thead>\n",
       "  <tbody>\n",
       "    <tr>\n",
       "      <th>energy</th>\n",
       "      <td>1.000000</td>\n",
       "      <td>0.152552</td>\n",
       "      <td>0.062428</td>\n",
       "      <td>0.791640</td>\n",
       "      <td>-0.682479</td>\n",
       "      <td>0.074267</td>\n",
       "      <td>-0.385515</td>\n",
       "      <td>0.069487</td>\n",
       "      <td>0.393453</td>\n",
       "      <td>0.075191</td>\n",
       "      <td>0.081971</td>\n",
       "    </tr>\n",
       "    <tr>\n",
       "      <th>danceability</th>\n",
       "      <td>0.152552</td>\n",
       "      <td>1.000000</td>\n",
       "      <td>0.285036</td>\n",
       "      <td>0.167147</td>\n",
       "      <td>-0.359135</td>\n",
       "      <td>0.226148</td>\n",
       "      <td>-0.017706</td>\n",
       "      <td>-0.006648</td>\n",
       "      <td>0.479953</td>\n",
       "      <td>0.168956</td>\n",
       "      <td>-0.033763</td>\n",
       "    </tr>\n",
       "    <tr>\n",
       "      <th>key</th>\n",
       "      <td>0.062428</td>\n",
       "      <td>0.285036</td>\n",
       "      <td>1.000000</td>\n",
       "      <td>-0.009178</td>\n",
       "      <td>-0.113394</td>\n",
       "      <td>-0.094965</td>\n",
       "      <td>0.020802</td>\n",
       "      <td>0.278672</td>\n",
       "      <td>0.120007</td>\n",
       "      <td>0.080475</td>\n",
       "      <td>-0.003345</td>\n",
       "    </tr>\n",
       "    <tr>\n",
       "      <th>loudness</th>\n",
       "      <td>0.791640</td>\n",
       "      <td>0.167147</td>\n",
       "      <td>-0.009178</td>\n",
       "      <td>1.000000</td>\n",
       "      <td>-0.498695</td>\n",
       "      <td>-0.021693</td>\n",
       "      <td>-0.553735</td>\n",
       "      <td>-0.069939</td>\n",
       "      <td>0.406772</td>\n",
       "      <td>0.102097</td>\n",
       "      <td>0.064130</td>\n",
       "    </tr>\n",
       "    <tr>\n",
       "      <th>acousticness</th>\n",
       "      <td>-0.682479</td>\n",
       "      <td>-0.359135</td>\n",
       "      <td>-0.113394</td>\n",
       "      <td>-0.498695</td>\n",
       "      <td>1.000000</td>\n",
       "      <td>-0.135392</td>\n",
       "      <td>0.352184</td>\n",
       "      <td>-0.128384</td>\n",
       "      <td>-0.243192</td>\n",
       "      <td>-0.241119</td>\n",
       "      <td>-0.010988</td>\n",
       "    </tr>\n",
       "  </tbody>\n",
       "</table>\n",
       "</div>"
      ],
      "text/plain": [
       "                energy  danceability       key  loudness  acousticness  \\\n",
       "energy        1.000000      0.152552  0.062428  0.791640     -0.682479   \n",
       "danceability  0.152552      1.000000  0.285036  0.167147     -0.359135   \n",
       "key           0.062428      0.285036  1.000000 -0.009178     -0.113394   \n",
       "loudness      0.791640      0.167147 -0.009178  1.000000     -0.498695   \n",
       "acousticness -0.682479     -0.359135 -0.113394 -0.498695      1.000000   \n",
       "\n",
       "              speechiness  instrumentalness  liveness   valence     tempo  \\\n",
       "energy           0.074267         -0.385515  0.069487  0.393453  0.075191   \n",
       "danceability     0.226148         -0.017706 -0.006648  0.479953  0.168956   \n",
       "key             -0.094965          0.020802  0.278672  0.120007  0.080475   \n",
       "loudness        -0.021693         -0.553735 -0.069939  0.406772  0.102097   \n",
       "acousticness    -0.135392          0.352184 -0.128384 -0.243192 -0.241119   \n",
       "\n",
       "              duration_ms  \n",
       "energy           0.081971  \n",
       "danceability    -0.033763  \n",
       "key             -0.003345  \n",
       "loudness         0.064130  \n",
       "acousticness    -0.010988  "
      ]
     },
     "execution_count": 22,
     "metadata": {},
     "output_type": "execute_result"
    }
   ],
   "source": [
    "corr_data=data.corr(numeric_only=True)\n",
    "corr_data.head()"
   ]
  },
  {
   "cell_type": "markdown",
   "id": "19759222",
   "metadata": {},
   "source": [
    "Let's examine strongest positive and negative correlations. We'll use the threshold of 0.7 to denote a strong correlation. "
   ]
  },
  {
   "cell_type": "code",
   "execution_count": 23,
   "id": "ebd99185",
   "metadata": {},
   "outputs": [
    {
     "data": {
      "text/html": [
       "<div>\n",
       "<style scoped>\n",
       "    .dataframe tbody tr th:only-of-type {\n",
       "        vertical-align: middle;\n",
       "    }\n",
       "\n",
       "    .dataframe tbody tr th {\n",
       "        vertical-align: top;\n",
       "    }\n",
       "\n",
       "    .dataframe thead th {\n",
       "        text-align: right;\n",
       "    }\n",
       "</style>\n",
       "<table border=\"1\" class=\"dataframe\">\n",
       "  <thead>\n",
       "    <tr style=\"text-align: right;\">\n",
       "      <th></th>\n",
       "      <th>energy</th>\n",
       "      <th>loudness</th>\n",
       "    </tr>\n",
       "  </thead>\n",
       "  <tbody>\n",
       "    <tr>\n",
       "      <th>energy</th>\n",
       "      <td>1.00000</td>\n",
       "      <td>0.79164</td>\n",
       "    </tr>\n",
       "    <tr>\n",
       "      <th>loudness</th>\n",
       "      <td>0.79164</td>\n",
       "      <td>1.00000</td>\n",
       "    </tr>\n",
       "  </tbody>\n",
       "</table>\n",
       "</div>"
      ],
      "text/plain": [
       "           energy  loudness\n",
       "energy    1.00000   0.79164\n",
       "loudness  0.79164   1.00000"
      ]
     },
     "execution_count": 23,
     "metadata": {},
     "output_type": "execute_result"
    }
   ],
   "source": [
    "str_pos = corr_data[corr_data[corr_data > 0.7].count() > 1]\n",
    "str_pos[str_pos.index]"
   ]
  },
  {
   "cell_type": "markdown",
   "id": "f2196978",
   "metadata": {},
   "source": [
    "So the only two features strongly positively correlated are energy and loudness."
   ]
  },
  {
   "cell_type": "markdown",
   "id": "b48d9f69",
   "metadata": {},
   "source": [
    "What about the negative?"
   ]
  },
  {
   "cell_type": "code",
   "execution_count": 24,
   "id": "1f20e9b2",
   "metadata": {},
   "outputs": [
    {
     "data": {
      "text/html": [
       "<div>\n",
       "<style scoped>\n",
       "    .dataframe tbody tr th:only-of-type {\n",
       "        vertical-align: middle;\n",
       "    }\n",
       "\n",
       "    .dataframe tbody tr th {\n",
       "        vertical-align: top;\n",
       "    }\n",
       "\n",
       "    .dataframe thead th {\n",
       "        text-align: right;\n",
       "    }\n",
       "</style>\n",
       "<table border=\"1\" class=\"dataframe\">\n",
       "  <thead>\n",
       "    <tr style=\"text-align: right;\">\n",
       "      <th></th>\n",
       "    </tr>\n",
       "  </thead>\n",
       "  <tbody>\n",
       "  </tbody>\n",
       "</table>\n",
       "</div>"
      ],
      "text/plain": [
       "Empty DataFrame\n",
       "Columns: []\n",
       "Index: []"
      ]
     },
     "execution_count": 24,
     "metadata": {},
     "output_type": "execute_result"
    }
   ],
   "source": [
    "str_neg = corr_data[corr_data[corr_data < -0.7].count() > 0]\n",
    "str_neg[str_neg.index]"
   ]
  },
  {
   "cell_type": "markdown",
   "id": "e53077a2",
   "metadata": {},
   "source": [
    "So, in the context of our threshold there seem to be no features strongly negatively correlated."
   ]
  },
  {
   "cell_type": "markdown",
   "id": "09dfe560",
   "metadata": {},
   "source": [
    "Are there any features with no correlation whatsoever?"
   ]
  },
  {
   "cell_type": "code",
   "execution_count": 25,
   "id": "eb1a089f",
   "metadata": {},
   "outputs": [
    {
     "data": {
      "text/plain": [
       "False"
      ]
     },
     "execution_count": 25,
     "metadata": {},
     "output_type": "execute_result"
    }
   ],
   "source": [
    "corr_data[corr_data == 0].any(axis=None)"
   ]
  },
  {
   "cell_type": "markdown",
   "id": "06eb39c2",
   "metadata": {},
   "source": [
    "Another thing we can do is to compare means of different feature values in respect to genre. "
   ]
  },
  {
   "cell_type": "code",
   "execution_count": 26,
   "id": "fec4b732",
   "metadata": {},
   "outputs": [
    {
     "data": {
      "text/html": [
       "<div>\n",
       "<style scoped>\n",
       "    .dataframe tbody tr th:only-of-type {\n",
       "        vertical-align: middle;\n",
       "    }\n",
       "\n",
       "    .dataframe tbody tr th {\n",
       "        vertical-align: top;\n",
       "    }\n",
       "\n",
       "    .dataframe thead th {\n",
       "        text-align: right;\n",
       "    }\n",
       "</style>\n",
       "<table border=\"1\" class=\"dataframe\">\n",
       "  <thead>\n",
       "    <tr style=\"text-align: right;\">\n",
       "      <th></th>\n",
       "      <th>acousticness</th>\n",
       "      <th>danceability</th>\n",
       "      <th>loudness</th>\n",
       "    </tr>\n",
       "    <tr>\n",
       "      <th>genre</th>\n",
       "      <th></th>\n",
       "      <th></th>\n",
       "      <th></th>\n",
       "    </tr>\n",
       "  </thead>\n",
       "  <tbody>\n",
       "    <tr>\n",
       "      <th>Hip-Hop/Rap</th>\n",
       "      <td>0.188741</td>\n",
       "      <td>0.765538</td>\n",
       "      <td>-6.917846</td>\n",
       "    </tr>\n",
       "    <tr>\n",
       "      <th>Pop</th>\n",
       "      <td>0.323843</td>\n",
       "      <td>0.677571</td>\n",
       "      <td>-6.460357</td>\n",
       "    </tr>\n",
       "    <tr>\n",
       "      <th>Dance/Electronic</th>\n",
       "      <td>0.099440</td>\n",
       "      <td>0.755000</td>\n",
       "      <td>-5.338000</td>\n",
       "    </tr>\n",
       "    <tr>\n",
       "      <th>Alternative/Indie</th>\n",
       "      <td>0.583500</td>\n",
       "      <td>0.661750</td>\n",
       "      <td>-5.421000</td>\n",
       "    </tr>\n",
       "  </tbody>\n",
       "</table>\n",
       "</div>"
      ],
      "text/plain": [
       "                   acousticness  danceability  loudness\n",
       "genre                                                  \n",
       "Hip-Hop/Rap            0.188741      0.765538 -6.917846\n",
       "Pop                    0.323843      0.677571 -6.460357\n",
       "Dance/Electronic       0.099440      0.755000 -5.338000\n",
       "Alternative/Indie      0.583500      0.661750 -5.421000"
      ]
     },
     "execution_count": 26,
     "metadata": {},
     "output_type": "execute_result"
    }
   ],
   "source": [
    "comparisons = data.pivot_table(['danceability','loudness', 'acousticness'],'genre').loc[\n",
    "              [\"Hip-Hop/Rap\", \"Pop\", \"Dance/Electronic\", \"Alternative/Indie\"]]\n",
    "comparisons"
   ]
  },
  {
   "cell_type": "markdown",
   "id": "008b6280",
   "metadata": {},
   "source": [
    "Alternative/Indie and Dance/Electronic are at the extremes in terms of acousticness with being maximum and minimum respectively. Somewhat interesting is the fact that pop is more acoustically driven than Hip-Hop, which  might indicate the general trends for production technique choices for 2020 by genre. However to answer this question this data is not sufficient."
   ]
  },
  {
   "cell_type": "code",
   "execution_count": 27,
   "id": "cd65da1c",
   "metadata": {},
   "outputs": [
    {
     "data": {
      "text/plain": [
       "genre\n",
       "Hip-Hop/Rap          0.765538\n",
       "Pop                  0.677571\n",
       "Dance/Electronic     0.755000\n",
       "Alternative/Indie    0.661750\n",
       "Name: danceability, dtype: float64"
      ]
     },
     "execution_count": 27,
     "metadata": {},
     "output_type": "execute_result"
    }
   ],
   "source": [
    "comparisons['danceability']"
   ]
  },
  {
   "cell_type": "markdown",
   "id": "adedf3a8",
   "metadata": {},
   "source": [
    "Quite suprisingly Hip-hop is the most danceable genre with danceability mean higher than Dance/Electronic music itself. Alternative/Indie and Pop are the least dancable ones. However the differences between all genres in the score are not huge."
   ]
  },
  {
   "cell_type": "code",
   "execution_count": 28,
   "id": "7fd985ea",
   "metadata": {},
   "outputs": [
    {
     "data": {
      "text/plain": [
       "genre\n",
       "Hip-Hop/Rap         -6.917846\n",
       "Pop                 -6.460357\n",
       "Dance/Electronic    -5.338000\n",
       "Alternative/Indie   -5.421000\n",
       "Name: loudness, dtype: float64"
      ]
     },
     "execution_count": 28,
     "metadata": {},
     "output_type": "execute_result"
    }
   ],
   "source": [
    "comparisons['loudness']"
   ]
  },
  {
   "cell_type": "markdown",
   "id": "0c00b6c1",
   "metadata": {},
   "source": [
    "In terms of loudness, Hip-Hop/Rap and Dance/Electronic lie in the extremes being the minimum and the maximum.\n",
    "Surprisingly, Alternative/Indie, which is usually perceived as quite a \"relaxed\" genre of music, is relatively high in loudness. Though, we should refer to the fact that there are only 4 entries of Alternative/Indie which might give a skewed view of the tendency."
   ]
  }
 ],
 "metadata": {
  "kernelspec": {
   "display_name": "Python 3 (ipykernel)",
   "language": "python",
   "name": "python3"
  },
  "language_info": {
   "codemirror_mode": {
    "name": "ipython",
    "version": 3
   },
   "file_extension": ".py",
   "mimetype": "text/x-python",
   "name": "python",
   "nbconvert_exporter": "python",
   "pygments_lexer": "ipython3",
   "version": "3.11.4"
  }
 },
 "nbformat": 4,
 "nbformat_minor": 5
}
